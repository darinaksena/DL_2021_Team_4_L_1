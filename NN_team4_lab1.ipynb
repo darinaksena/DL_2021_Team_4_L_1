{
  "nbformat": 4,
  "nbformat_minor": 0,
  "metadata": {
    "colab": {
      "name": "NN_team4_lab1",
      "provenance": [],
      "collapsed_sections": []
    },
    "kernelspec": {
      "name": "python3",
      "display_name": "Python 3"
    },
    "language_info": {
      "name": "python"
    },
    "accelerator": "GPU",
    "widgets": {
      "application/vnd.jupyter.widget-state+json": {
        "eb6ea1e6061f489cb00db0e0e6782bd7": {
          "model_module": "@jupyter-widgets/controls",
          "model_name": "HBoxModel",
          "model_module_version": "1.5.0",
          "state": {
            "_view_name": "HBoxView",
            "_dom_classes": [],
            "_model_name": "HBoxModel",
            "_view_module": "@jupyter-widgets/controls",
            "_model_module_version": "1.5.0",
            "_view_count": null,
            "_view_module_version": "1.5.0",
            "box_style": "",
            "layout": "IPY_MODEL_e63706e7d5204b15bb328fc2f60ec90d",
            "_model_module": "@jupyter-widgets/controls",
            "children": [
              "IPY_MODEL_e8cbe37f42414b0b83c69cd4078ec860",
              "IPY_MODEL_5d2e436e51324d04bf21377b9d96cbc9",
              "IPY_MODEL_afac976394364c14a154889c82724329"
            ]
          }
        },
        "e63706e7d5204b15bb328fc2f60ec90d": {
          "model_module": "@jupyter-widgets/base",
          "model_name": "LayoutModel",
          "model_module_version": "1.2.0",
          "state": {
            "_view_name": "LayoutView",
            "grid_template_rows": null,
            "right": null,
            "justify_content": null,
            "_view_module": "@jupyter-widgets/base",
            "overflow": null,
            "_model_module_version": "1.2.0",
            "_view_count": null,
            "flex_flow": null,
            "width": null,
            "min_width": null,
            "border": null,
            "align_items": null,
            "bottom": null,
            "_model_module": "@jupyter-widgets/base",
            "top": null,
            "grid_column": null,
            "overflow_y": null,
            "overflow_x": null,
            "grid_auto_flow": null,
            "grid_area": null,
            "grid_template_columns": null,
            "flex": null,
            "_model_name": "LayoutModel",
            "justify_items": null,
            "grid_row": null,
            "max_height": null,
            "align_content": null,
            "visibility": null,
            "align_self": null,
            "height": null,
            "min_height": null,
            "padding": null,
            "grid_auto_rows": null,
            "grid_gap": null,
            "max_width": null,
            "order": null,
            "_view_module_version": "1.2.0",
            "grid_template_areas": null,
            "object_position": null,
            "object_fit": null,
            "grid_auto_columns": null,
            "margin": null,
            "display": null,
            "left": null
          }
        },
        "e8cbe37f42414b0b83c69cd4078ec860": {
          "model_module": "@jupyter-widgets/controls",
          "model_name": "HTMLModel",
          "model_module_version": "1.5.0",
          "state": {
            "_view_name": "HTMLView",
            "style": "IPY_MODEL_e51df3d7ba504d938160075923d748ec",
            "_dom_classes": [],
            "description": "",
            "_model_name": "HTMLModel",
            "placeholder": "​",
            "_view_module": "@jupyter-widgets/controls",
            "_model_module_version": "1.5.0",
            "value": "100%",
            "_view_count": null,
            "_view_module_version": "1.5.0",
            "description_tooltip": null,
            "_model_module": "@jupyter-widgets/controls",
            "layout": "IPY_MODEL_3c2f33958b214094a1c52ca54b3d6f9a"
          }
        },
        "5d2e436e51324d04bf21377b9d96cbc9": {
          "model_module": "@jupyter-widgets/controls",
          "model_name": "FloatProgressModel",
          "model_module_version": "1.5.0",
          "state": {
            "_view_name": "ProgressView",
            "style": "IPY_MODEL_9529457a53674d28a15da8459528d172",
            "_dom_classes": [],
            "description": "",
            "_model_name": "FloatProgressModel",
            "bar_style": "success",
            "max": 553433881,
            "_view_module": "@jupyter-widgets/controls",
            "_model_module_version": "1.5.0",
            "value": 553433881,
            "_view_count": null,
            "_view_module_version": "1.5.0",
            "orientation": "horizontal",
            "min": 0,
            "description_tooltip": null,
            "_model_module": "@jupyter-widgets/controls",
            "layout": "IPY_MODEL_f65b110d2b314edc9441b7b99da17467"
          }
        },
        "afac976394364c14a154889c82724329": {
          "model_module": "@jupyter-widgets/controls",
          "model_name": "HTMLModel",
          "model_module_version": "1.5.0",
          "state": {
            "_view_name": "HTMLView",
            "style": "IPY_MODEL_69b32c1b9e014a628aed37f0bdc05120",
            "_dom_classes": [],
            "description": "",
            "_model_name": "HTMLModel",
            "placeholder": "​",
            "_view_module": "@jupyter-widgets/controls",
            "_model_module_version": "1.5.0",
            "value": " 528M/528M [00:05&lt;00:00, 87.9MB/s]",
            "_view_count": null,
            "_view_module_version": "1.5.0",
            "description_tooltip": null,
            "_model_module": "@jupyter-widgets/controls",
            "layout": "IPY_MODEL_afe27f2a5b1d443cb68842d87e3e4426"
          }
        },
        "e51df3d7ba504d938160075923d748ec": {
          "model_module": "@jupyter-widgets/controls",
          "model_name": "DescriptionStyleModel",
          "model_module_version": "1.5.0",
          "state": {
            "_view_name": "StyleView",
            "_model_name": "DescriptionStyleModel",
            "description_width": "",
            "_view_module": "@jupyter-widgets/base",
            "_model_module_version": "1.5.0",
            "_view_count": null,
            "_view_module_version": "1.2.0",
            "_model_module": "@jupyter-widgets/controls"
          }
        },
        "3c2f33958b214094a1c52ca54b3d6f9a": {
          "model_module": "@jupyter-widgets/base",
          "model_name": "LayoutModel",
          "model_module_version": "1.2.0",
          "state": {
            "_view_name": "LayoutView",
            "grid_template_rows": null,
            "right": null,
            "justify_content": null,
            "_view_module": "@jupyter-widgets/base",
            "overflow": null,
            "_model_module_version": "1.2.0",
            "_view_count": null,
            "flex_flow": null,
            "width": null,
            "min_width": null,
            "border": null,
            "align_items": null,
            "bottom": null,
            "_model_module": "@jupyter-widgets/base",
            "top": null,
            "grid_column": null,
            "overflow_y": null,
            "overflow_x": null,
            "grid_auto_flow": null,
            "grid_area": null,
            "grid_template_columns": null,
            "flex": null,
            "_model_name": "LayoutModel",
            "justify_items": null,
            "grid_row": null,
            "max_height": null,
            "align_content": null,
            "visibility": null,
            "align_self": null,
            "height": null,
            "min_height": null,
            "padding": null,
            "grid_auto_rows": null,
            "grid_gap": null,
            "max_width": null,
            "order": null,
            "_view_module_version": "1.2.0",
            "grid_template_areas": null,
            "object_position": null,
            "object_fit": null,
            "grid_auto_columns": null,
            "margin": null,
            "display": null,
            "left": null
          }
        },
        "9529457a53674d28a15da8459528d172": {
          "model_module": "@jupyter-widgets/controls",
          "model_name": "ProgressStyleModel",
          "model_module_version": "1.5.0",
          "state": {
            "_view_name": "StyleView",
            "_model_name": "ProgressStyleModel",
            "description_width": "",
            "_view_module": "@jupyter-widgets/base",
            "_model_module_version": "1.5.0",
            "_view_count": null,
            "_view_module_version": "1.2.0",
            "bar_color": null,
            "_model_module": "@jupyter-widgets/controls"
          }
        },
        "f65b110d2b314edc9441b7b99da17467": {
          "model_module": "@jupyter-widgets/base",
          "model_name": "LayoutModel",
          "model_module_version": "1.2.0",
          "state": {
            "_view_name": "LayoutView",
            "grid_template_rows": null,
            "right": null,
            "justify_content": null,
            "_view_module": "@jupyter-widgets/base",
            "overflow": null,
            "_model_module_version": "1.2.0",
            "_view_count": null,
            "flex_flow": null,
            "width": null,
            "min_width": null,
            "border": null,
            "align_items": null,
            "bottom": null,
            "_model_module": "@jupyter-widgets/base",
            "top": null,
            "grid_column": null,
            "overflow_y": null,
            "overflow_x": null,
            "grid_auto_flow": null,
            "grid_area": null,
            "grid_template_columns": null,
            "flex": null,
            "_model_name": "LayoutModel",
            "justify_items": null,
            "grid_row": null,
            "max_height": null,
            "align_content": null,
            "visibility": null,
            "align_self": null,
            "height": null,
            "min_height": null,
            "padding": null,
            "grid_auto_rows": null,
            "grid_gap": null,
            "max_width": null,
            "order": null,
            "_view_module_version": "1.2.0",
            "grid_template_areas": null,
            "object_position": null,
            "object_fit": null,
            "grid_auto_columns": null,
            "margin": null,
            "display": null,
            "left": null
          }
        },
        "69b32c1b9e014a628aed37f0bdc05120": {
          "model_module": "@jupyter-widgets/controls",
          "model_name": "DescriptionStyleModel",
          "model_module_version": "1.5.0",
          "state": {
            "_view_name": "StyleView",
            "_model_name": "DescriptionStyleModel",
            "description_width": "",
            "_view_module": "@jupyter-widgets/base",
            "_model_module_version": "1.5.0",
            "_view_count": null,
            "_view_module_version": "1.2.0",
            "_model_module": "@jupyter-widgets/controls"
          }
        },
        "afe27f2a5b1d443cb68842d87e3e4426": {
          "model_module": "@jupyter-widgets/base",
          "model_name": "LayoutModel",
          "model_module_version": "1.2.0",
          "state": {
            "_view_name": "LayoutView",
            "grid_template_rows": null,
            "right": null,
            "justify_content": null,
            "_view_module": "@jupyter-widgets/base",
            "overflow": null,
            "_model_module_version": "1.2.0",
            "_view_count": null,
            "flex_flow": null,
            "width": null,
            "min_width": null,
            "border": null,
            "align_items": null,
            "bottom": null,
            "_model_module": "@jupyter-widgets/base",
            "top": null,
            "grid_column": null,
            "overflow_y": null,
            "overflow_x": null,
            "grid_auto_flow": null,
            "grid_area": null,
            "grid_template_columns": null,
            "flex": null,
            "_model_name": "LayoutModel",
            "justify_items": null,
            "grid_row": null,
            "max_height": null,
            "align_content": null,
            "visibility": null,
            "align_self": null,
            "height": null,
            "min_height": null,
            "padding": null,
            "grid_auto_rows": null,
            "grid_gap": null,
            "max_width": null,
            "order": null,
            "_view_module_version": "1.2.0",
            "grid_template_areas": null,
            "object_position": null,
            "object_fit": null,
            "grid_auto_columns": null,
            "margin": null,
            "display": null,
            "left": null
          }
        }
      }
    }
  },
  "cells": [
    {
      "cell_type": "code",
      "metadata": {
        "id": "khh42WF3Z-9T"
      },
      "source": [
        "import torch\n",
        "import torch.nn as nn\n",
        "import torch.optim as optim\n",
        "from torch.optim import lr_scheduler\n",
        "import numpy as np\n",
        "import time\n",
        "import os\n",
        "import argparse\n",
        "from torchvision import datasets, models, transforms, utils\n",
        "from torch.autograd import Variable\n",
        "import torch.nn.functional as F\n",
        "import copy\n",
        "from PIL import Image\n",
        "import matplotlib.pyplot as plt\n",
        "import json\n",
        "from collections import OrderedDict\n",
        "import seaborn as sn\n",
        "from sklearn.metrics import confusion_matrix"
      ],
      "execution_count": null,
      "outputs": []
    },
    {
      "cell_type": "code",
      "metadata": {
        "id": "yph7BAkWajMG"
      },
      "source": [
        "data_dir = 'drive/MyDrive/flowers_dataset'\n",
        "train_dir = data_dir + '/train'\n",
        "valid_dir = data_dir + '/valid'\n",
        "test_dir = data_dir + '/test'\n",
        "batch_size = 5"
      ],
      "execution_count": null,
      "outputs": []
    },
    {
      "cell_type": "markdown",
      "metadata": {
        "id": "1wkltc5oNP63"
      },
      "source": [
        "Создаем  трансформер, которые последовательно выполняет 2 трансформации исходного изображения: \n",
        "- преобразует исходное изображение в тензор\n",
        "- выполняет по-канальную нормализацию яркости изображения\n",
        "\n",
        "Данные трансформации необходимы для подачи изображений на входно слой предобученной сети. \n",
        "\n",
        "\n",
        "\n"
      ]
    },
    {
      "cell_type": "code",
      "metadata": {
        "id": "jkqToGjvawYT"
      },
      "source": [
        "transformer = transforms.Compose([\n",
        "                                  transforms.ToTensor(),\n",
        "                                  transforms.Normalize([0.485, 0.456, 0.406], \n",
        "                                                        [0.229, 0.224, 0.225]\n",
        "                                                       )\n",
        "                                  ])"
      ],
      "execution_count": null,
      "outputs": []
    },
    {
      "cell_type": "code",
      "metadata": {
        "colab": {
          "base_uri": "https://localhost:8080/"
        },
        "id": "oilIPjkma60l",
        "outputId": "e95f52ad-156b-4cbf-a43e-8f807a4fa832"
      },
      "source": [
        "image_datasets = dict()\n",
        "image_datasets['train'] = datasets.ImageFolder(train_dir, transform=transformer)\n",
        "image_datasets['valid'] = datasets.ImageFolder(valid_dir, transform=transformer)\n",
        "image_datasets['test'] = datasets.ImageFolder(test_dir, transform=transformer)\n",
        "\n",
        "dataloaders = dict()\n",
        "dataloaders['train'] = torch.utils.data.DataLoader(image_datasets['train'], batch_size=batch_size, shuffle=True)\n",
        "dataloaders['valid'] = torch.utils.data.DataLoader(image_datasets['valid'], batch_size=batch_size)\n",
        "dataloaders['test']  = torch.utils.data.DataLoader(image_datasets['test'], batch_size=batch_size)\n",
        "\n",
        "\n",
        "dataset_sizes = {x: len(image_datasets[x]) for x in ['train', 'valid', 'test']}\n",
        "class_names = image_datasets['train'].classes\n",
        "\n",
        "print (\"Dasaset Size: {}\".format(dataset_sizes))\n",
        "print (\"Classes: {}\".format(class_names))"
      ],
      "execution_count": null,
      "outputs": [
        {
          "output_type": "stream",
          "name": "stdout",
          "text": [
            "Dasaset Size: {'train': 193, 'valid': 65, 'test': 133}\n",
            "Classes: ['0', '1', '2', '3', '4', '5', '6', '7', '8', '9']\n"
          ]
        }
      ]
    },
    {
      "cell_type": "markdown",
      "metadata": {
        "id": "UdwOAK_3P22O"
      },
      "source": [
        "Ниже объявлена функция, в которой производится обучение модели.\n",
        "Процесс обучения следующий:\n",
        "- в ходе каждой эпохи мы работаем с тренировочным и валидационным наборами данных\n",
        "- для обоих наборов высчитывается точность и значение функции потерь (в качестве функции потерь мы взяли кросс-энтропию)\n",
        "- при работе с тренировочным набором выполняется градиентный спуск\n",
        "- при работе с валидационным набором выполняется поиск параметров модели, при которых была достигнута наибольшая точность классификации"
      ]
    },
    {
      "cell_type": "code",
      "metadata": {
        "id": "3nEReeEEbkE0"
      },
      "source": [
        "def train_model(model, num_epochs):\n",
        "    history = {\n",
        "        'loss' : {\n",
        "            'train' : np.zeros(num_epochs),\n",
        "            'valid': np.zeros(num_epochs)\n",
        "        },\n",
        "        'accuracy' : {\n",
        "            'train' : np.zeros(num_epochs),\n",
        "            'valid': np.zeros(num_epochs)\n",
        "        }\n",
        "    }\n",
        "    criterion = nn.CrossEntropyLoss()\n",
        "    optimizer = optim.Adam(model.classifier.parameters(), lr=0.001)\n",
        "\n",
        "    best_model_state = copy.deepcopy(model.state_dict())\n",
        "    best_acc = 0.0\n",
        "\n",
        "    for epoch in range(num_epochs):\n",
        "        print('Epoch {}/{}'.format(epoch + 1, num_epochs))\n",
        "\n",
        "        for phase in ['train', 'valid']:\n",
        "            # we train model, only when phase == 'train'\n",
        "            model.train(phase == 'train')\n",
        "\n",
        "            running_loss = 0.0\n",
        "            running_corrects = 0\n",
        "\n",
        "            for data in dataloaders[phase]:\n",
        "                inputs, labels = data                \n",
        "                inputs = Variable(inputs.cuda())\n",
        "                labels = Variable(labels.cuda())\n",
        "\n",
        "                optimizer.zero_grad()\n",
        "\n",
        "                outputs = model(inputs)\n",
        "                _, preds = torch.max(outputs.data, 1)\n",
        "                loss = criterion(outputs, labels)\n",
        "\n",
        "                if phase == 'train':\n",
        "                    loss.backward()\n",
        "                    optimizer.step()\n",
        "\n",
        "                running_loss += loss.data * inputs.size(0)\n",
        "                running_corrects += torch.sum(preds == labels.data)\n",
        "\n",
        "            epoch_loss = running_loss / dataset_sizes[phase]\n",
        "            epoch_acc = running_corrects / dataset_sizes[phase]\n",
        "\n",
        "            print('{} -  Loss: {:.4f} Accuracy: {:.4f}'.format(phase, epoch_loss, epoch_acc))\n",
        "\n",
        "            if phase == 'valid' and epoch_acc > best_acc:\n",
        "                best_acc = epoch_acc\n",
        "                best_model_state = copy.deepcopy(model.state_dict())\n",
        "            \n",
        "            history['loss'][phase][epoch] = epoch_loss\n",
        "            history['accuracy'][phase][epoch] = epoch_acc\n",
        "\n",
        "        print('-' * 10)\n",
        "\n",
        "    print('Best validation accuracy: {:4f}'.format(best_acc))\n",
        "    model.load_state_dict(best_model_state)\n",
        "    return model, history"
      ],
      "execution_count": null,
      "outputs": []
    },
    {
      "cell_type": "markdown",
      "metadata": {
        "id": "XZBlrGPJRNSF"
      },
      "source": [
        "Здесь мы загружаем предобученную модель"
      ]
    },
    {
      "cell_type": "code",
      "metadata": {
        "id": "NIHkN6TwcPnD",
        "colab": {
          "base_uri": "https://localhost:8080/",
          "height": 66,
          "referenced_widgets": [
            "eb6ea1e6061f489cb00db0e0e6782bd7",
            "e63706e7d5204b15bb328fc2f60ec90d",
            "e8cbe37f42414b0b83c69cd4078ec860",
            "5d2e436e51324d04bf21377b9d96cbc9",
            "afac976394364c14a154889c82724329",
            "e51df3d7ba504d938160075923d748ec",
            "3c2f33958b214094a1c52ca54b3d6f9a",
            "9529457a53674d28a15da8459528d172",
            "f65b110d2b314edc9441b7b99da17467",
            "69b32c1b9e014a628aed37f0bdc05120",
            "afe27f2a5b1d443cb68842d87e3e4426"
          ]
        },
        "outputId": "6322210c-a6c5-4eb3-e4f8-2f62b8d52a86"
      },
      "source": [
        "model = models.vgg16(pretrained=True)\n",
        "\n",
        "for param in model.parameters():\n",
        "    param.requires_grad = False"
      ],
      "execution_count": null,
      "outputs": [
        {
          "output_type": "stream",
          "name": "stderr",
          "text": [
            "Downloading: \"https://download.pytorch.org/models/vgg16-397923af.pth\" to /root/.cache/torch/hub/checkpoints/vgg16-397923af.pth\n"
          ]
        },
        {
          "output_type": "display_data",
          "data": {
            "application/vnd.jupyter.widget-view+json": {
              "model_id": "eb6ea1e6061f489cb00db0e0e6782bd7",
              "version_minor": 0,
              "version_major": 2
            },
            "text/plain": [
              "  0%|          | 0.00/528M [00:00<?, ?B/s]"
            ]
          },
          "metadata": {}
        }
      ]
    },
    {
      "cell_type": "markdown",
      "metadata": {
        "id": "IIwTGaB1RTid"
      },
      "source": [
        "А здесь добавляем слои к преобученной модели, формируя классификатор непосредственно под нашу задачу.\n",
        "\n",
        "PS интересное рнаблюдение - LogSoftmax дает лучшие результаты по сравнению с Softmax"
      ]
    },
    {
      "cell_type": "code",
      "metadata": {
        "id": "w9AeRtiucQr1"
      },
      "source": [
        "num_features = model.classifier[0].in_features\n",
        "\n",
        "classifier = nn.Sequential(OrderedDict([\n",
        "                              ('hidden1', nn.Linear(num_features, 64)),\n",
        "                              ('relu', nn.ReLU()),\n",
        "                              ('drpot', nn.Dropout(p=0.5)),\n",
        "                              ('hidden2', nn.Linear(64, 10)),\n",
        "                              ('output', nn.LogSoftmax(dim=1)),\n",
        "                              ]))\n",
        "\n",
        "model.classifier = classifier"
      ],
      "execution_count": null,
      "outputs": []
    },
    {
      "cell_type": "code",
      "metadata": {
        "colab": {
          "base_uri": "https://localhost:8080/"
        },
        "id": "2w7MzFDQcS7N",
        "outputId": "8d697cf0-a9e4-4398-f5d3-ccbee881526d"
      },
      "source": [
        "num_epochs = 5\n",
        "model = model.cuda()\n",
        "\n",
        "model, history = train_model(model, num_epochs)"
      ],
      "execution_count": null,
      "outputs": [
        {
          "output_type": "stream",
          "name": "stdout",
          "text": [
            "Epoch 1/5\n"
          ]
        },
        {
          "output_type": "stream",
          "name": "stderr",
          "text": [
            "/usr/local/lib/python3.7/dist-packages/torch/nn/functional.py:718: UserWarning: Named tensors and all their associated APIs are an experimental feature and subject to change. Please do not use them for anything important until they are released as stable. (Triggered internally at  /pytorch/c10/core/TensorImpl.h:1156.)\n",
            "  return torch.max_pool2d(input, kernel_size, stride, padding, dilation, ceil_mode)\n"
          ]
        },
        {
          "output_type": "stream",
          "name": "stdout",
          "text": [
            "train -  Loss: 2.1051 Accuracy: 0.4352\n",
            "valid -  Loss: 0.5118 Accuracy: 0.9385\n",
            "----------\n",
            "Epoch 2/5\n",
            "train -  Loss: 0.6828 Accuracy: 0.7772\n",
            "valid -  Loss: 0.2408 Accuracy: 0.9538\n",
            "----------\n",
            "Epoch 3/5\n",
            "train -  Loss: 0.4875 Accuracy: 0.8238\n",
            "valid -  Loss: 0.1843 Accuracy: 0.9385\n",
            "----------\n",
            "Epoch 4/5\n",
            "train -  Loss: 0.2658 Accuracy: 0.8964\n",
            "valid -  Loss: 0.1505 Accuracy: 0.9385\n",
            "----------\n",
            "Epoch 5/5\n",
            "train -  Loss: 0.2841 Accuracy: 0.9067\n",
            "valid -  Loss: 0.1994 Accuracy: 0.9385\n",
            "----------\n",
            "Best validation accuracy: 0.953846\n"
          ]
        }
      ]
    },
    {
      "cell_type": "code",
      "metadata": {
        "colab": {
          "base_uri": "https://localhost:8080/",
          "height": 562
        },
        "id": "0vEFfIAWXYku",
        "outputId": "0e6a27a0-d029-4546-fe99-6270af932638"
      },
      "source": [
        "plt.figure(figsize=(12, 9))\n",
        "plt.rcParams.update({'font.size': 18})\n",
        "plt.plot(range(1, num_epochs + 1), history['accuracy']['train'], label='Train accuracy', color='red')\n",
        "plt.plot(range(1, num_epochs + 1), history['accuracy']['valid'], label='Valid accuracy', color='green')\n",
        "plt.legend()"
      ],
      "execution_count": null,
      "outputs": [
        {
          "output_type": "execute_result",
          "data": {
            "text/plain": [
              "<matplotlib.legend.Legend at 0x7f452eeda510>"
            ]
          },
          "metadata": {},
          "execution_count": 9
        },
        {
          "output_type": "display_data",
          "data": {
            "image/png": "[encoded data removed]",
            "text/plain": [
              "<Figure size 864x648 with 1 Axes>"
            ]
          },
          "metadata": {
            "needs_background": "light"
          }
        }
      ]
    },
    {
      "cell_type": "code",
      "metadata": {
        "colab": {
          "base_uri": "https://localhost:8080/",
          "height": 562
        },
        "id": "qJmu3rPKX1Rk",
        "outputId": "8207ea59-1b8d-4b79-f311-98a114dd4568"
      },
      "source": [
        "plt.figure(figsize=(12, 9))\n",
        "plt.plot(range(1, num_epochs + 1), history['loss']['train'], label='Train loss', color='red')\n",
        "plt.plot(range(1, num_epochs + 1), history['loss']['valid'], label='Valid loss', color='green')\n",
        "plt.legend()"
      ],
      "execution_count": null,
      "outputs": [
        {
          "output_type": "execute_result",
          "data": {
            "text/plain": [
              "<matplotlib.legend.Legend at 0x7f452ee69450>"
            ]
          },
          "metadata": {},
          "execution_count": 10
        },
        {
          "output_type": "display_data",
          "data": {
            "image/png": "[encoded data removed]",
            "text/plain": [
              "<Figure size 864x648 with 1 Axes>"
            ]
          },
          "metadata": {
            "needs_background": "light"
          }
        }
      ]
    },
    {
      "cell_type": "markdown",
      "metadata": {
        "id": "uzVMcMpuVMe-"
      },
      "source": [
        "Ниже описана функция, тестирующая обученную модель на данных, которые модель еще не видела."
      ]
    },
    {
      "cell_type": "code",
      "metadata": {
        "colab": {
          "base_uri": "https://localhost:8080/"
        },
        "id": "196KA9RIcqc9",
        "outputId": "b91d1465-01fd-4b0b-a325-c849c0832039"
      },
      "source": [
        "def perform_testing():\n",
        "    criterion = nn.CrossEntropyLoss()\n",
        "    model.train(False)\n",
        "    test_data_size = len(dataloaders['test'])\n",
        "    y_true = []\n",
        "    y_pred = []\n",
        "\n",
        "    with torch.no_grad():\n",
        "      accuracy = 0\n",
        "      test_loss = 0\n",
        "      for i, (images, labels) in enumerate(dataloaders['test']):\n",
        "\n",
        "          inputs = Variable(images.cuda())\n",
        "          labels = Variable(labels.cuda())\n",
        "\n",
        "          output = model.forward(inputs)\n",
        "          test_loss += criterion(output, labels).data\n",
        "\n",
        "          output = torch.exp(output).data\n",
        "          equality = (labels.data == output.max(1)[1])\n",
        "          for j in range(len(labels.data)):\n",
        "              y_true.append(labels.data[j].item())\n",
        "              y_pred.append(output.max(1)[1][j].item())\n",
        "          accuracy += equality.type_as(torch.FloatTensor()).mean()\n",
        "\n",
        "    print(\"Test Loss: {:.3f} \".format(test_loss/test_data_size),\n",
        "          \"Test Accuracy: {:.3f}\".format(accuracy/test_data_size))\n",
        "    return y_true, y_pred\n",
        "\n",
        "y_true, y_pred = perform_testing()"
      ],
      "execution_count": null,
      "outputs": [
        {
          "output_type": "stream",
          "name": "stdout",
          "text": [
            "Test Loss: 0.400  Test Accuracy: 0.881\n"
          ]
        }
      ]
    },
    {
      "cell_type": "code",
      "metadata": {
        "colab": {
          "base_uri": "https://localhost:8080/",
          "height": 562
        },
        "id": "snVJ-Tu8gA_i",
        "outputId": "347b83df-ac9c-4197-caba-ff1ec172f8e0"
      },
      "source": [
        "matrix = confusion_matrix(y_true, y_pred)\n",
        "plt.figure(figsize=(12, 9))\n",
        "sn.heatmap(matrix, xticklabels=class_names, yticklabels=class_names, annot=True, fmt='d')"
      ],
      "execution_count": null,
      "outputs": [
        {
          "output_type": "execute_result",
          "data": {
            "text/plain": [
              "<matplotlib.axes._subplots.AxesSubplot at 0x7f452e9ac350>"
            ]
          },
          "metadata": {},
          "execution_count": 12
        },
        {
          "output_type": "display_data",
          "data": {
            "image/png": "[encoded data removed]",
            "text/plain": [
              "<Figure size 864x648 with 2 Axes>"
            ]
          },
          "metadata": {
            "needs_background": "light"
          }
        }
      ]
    }
  ]
}